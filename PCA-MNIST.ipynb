{
 "cells": [
  {
   "cell_type": "code",
   "execution_count": 1,
   "metadata": {
    "collapsed": true
   },
   "outputs": [],
   "source": [
    "from sklearn import datasets\n",
    "from sklearn import tree\n",
    "from sklearn.feature_extraction.text import TfidfVectorizer\n",
    "from sklearn.datasets import fetch_mldata\n",
    "from sklearn.linear_model import LogisticRegression\n",
    "from scipy import sparse\n",
    "from sklearn.cluster import DBSCAN\n",
    "from collections import Counter\n",
    "from sklearn.model_selection import train_test_split\n",
    "from sklearn.decomposition import PCA\n",
    "import numpy as np\n",
    "import random\n",
    "import math\n",
    "import pickle\n",
    "import matplotlib.pyplot as plt\n",
    "vectorizer = TfidfVectorizer()"
   ]
  },
  {
   "cell_type": "code",
   "execution_count": 2,
   "metadata": {
    "collapsed": true
   },
   "outputs": [],
   "source": [
    "mnist = fetch_mldata('MNIST original')\n",
    "X_train, X_test, y_train, y_test = train_test_split(mnist.data,mnist.target, test_size=0.10)"
   ]
  },
  {
   "cell_type": "code",
   "execution_count": 4,
   "metadata": {
    "collapsed": false
   },
   "outputs": [
    {
     "name": "stdout",
     "output_type": "stream",
     "text": [
      "The score performance of original(Tree) is :  0.872\n",
      "The score performance of original(Logistic) is :  0.899142857143\n"
     ]
    }
   ],
   "source": [
    "mnist = fetch_mldata('MNIST original')\n",
    "X_train, X_test, y_train, y_test = train_test_split(mnist.data,mnist.target, test_size=0.10)\n",
    "\n",
    "clf = tree.DecisionTreeClassifier()\n",
    "tree_mnist = clf.fit(X_train,y_train)\n",
    "score = tree_mnist.score(X_test,y_test)\n",
    "print \"The score performance of original(Tree) is : \",score\n",
    "\n",
    "clf = LogisticRegression(penalty='l2',tol=0.1)\n",
    "tree_mnist = clf.fit(X_train,y_train)\n",
    "score = tree_mnist.score(X_test,y_test)\n",
    "print \"The score performance of original(Logistic) is : \",score"
   ]
  },
  {
   "cell_type": "code",
   "execution_count": 7,
   "metadata": {
    "collapsed": false
   },
   "outputs": [
    {
     "name": "stdout",
     "output_type": "stream",
     "text": [
      "The score performance with 5 dimensions(Tree) is :  0.640714285714\n",
      "The score performance with 5 dimensions(Logistic) is :  0.548\n"
     ]
    }
   ],
   "source": [
    "X_train_5 = PCA(n_components=5).fit_transform(X_train)\n",
    "X_test_5 = PCA(n_components=5).fit_transform(X_test)\n",
    "\n",
    "clf1 = tree.DecisionTreeClassifier()\n",
    "tree_mnist_5 = clf1.fit(X_train_5,y_train)\n",
    "score_5 = tree_mnist_5.score(X_test_5,y_test)\n",
    "print \"The score performance with 5 dimensions(Tree) is : \",score_5\n",
    "\n",
    "\n",
    "clf1 = LogisticRegression(penalty='l2',tol=0.1)\n",
    "tree_mnist_5 = clf1.fit(X_train_5,y_train)\n",
    "score_5 = tree_mnist_5.score(X_test_5,y_test)\n",
    "print \"The score performance with 5 dimensions(Logistic) is : \",score_5"
   ]
  },
  {
   "cell_type": "code",
   "execution_count": 7,
   "metadata": {
    "collapsed": false
   },
   "outputs": [
    {
     "name": "stdout",
     "output_type": "stream",
     "text": [
      "The score performance with 20 dimensions is :  0.853857142857\n"
     ]
    }
   ],
   "source": [
    "pca = PCA(n_components=20)\n",
    "X_train_20 = pca.fit_transform(X_train)\n",
    "X_test_20 = pca.transform(X_test)\n",
    "\n",
    "# clf_tree = tree.DecisionTreeClassifier()\n",
    "# tree_mnist_20 = clf_tree.fit(X_train_20,y_train)\n",
    "# score_20 = clf_tree.score(X_test_20,y_test)\n",
    "# print \"The score performance with 20 dimensions is : \",score_20\n",
    "\n",
    "clf2 = LogisticRegression()\n",
    "tree_mnist_20 = clf2.fit(X_train_20,y_train)\n",
    "score_20 = clf2.score(X_test_20,y_test)\n",
    "print \"The score performance with 20 dimensions is : \",score_20"
   ]
  },
  {
   "cell_type": "code",
   "execution_count": 21,
   "metadata": {
    "collapsed": false
   },
   "outputs": [
    {
     "name": "stdout",
     "output_type": "stream",
     "text": [
      "The score performance of original is :  0.877333333333\n",
      "The score performance with 5 dimensions is :  0.436761904762\n",
      "The score performance with 20 dimensions is :  0.481714285714\n"
     ]
    }
   ],
   "source": [
    "print \"The score performance of original is : \",score\n",
    "print \"The score performance with 5 dimensions is : \",score_5\n",
    "print \"The score performance with 20 dimensions is : \",score_20"
   ]
  },
  {
   "cell_type": "code",
   "execution_count": 8,
   "metadata": {
    "collapsed": false
   },
   "outputs": [
    {
     "name": "stdout",
     "output_type": "stream",
     "text": [
      "4601\n"
     ]
    }
   ],
   "source": [
    "f = open(\"spambase.data\",\"r\")\n",
    "points = []\n",
    "label = []\n",
    "i = 0\n",
    "for line in f:\n",
    "    l = line.split(\",\")\n",
    "    points.append(map(float, l[:len(l)-1]))\n",
    "    label.append(l[len(l)-1:])\n",
    "    i += 1\n",
    "\n",
    "print len(points)"
   ]
  },
  {
   "cell_type": "code",
   "execution_count": 9,
   "metadata": {
    "collapsed": false
   },
   "outputs": [],
   "source": [
    "X_train, X_test, y_train, y_test = train_test_split(points,label, test_size=0.15)"
   ]
  },
  {
   "cell_type": "code",
   "execution_count": 10,
   "metadata": {
    "collapsed": true
   },
   "outputs": [],
   "source": [
    "clf = tree.DecisionTreeClassifier()\n",
    "tree_spambase = clf.fit(X_train,y_train)\n",
    "score_spambase = clf.score(X_test,y_test)"
   ]
  },
  {
   "cell_type": "code",
   "execution_count": 11,
   "metadata": {
    "collapsed": false
   },
   "outputs": [
    {
     "data": {
      "text/plain": [
       "0.92474674384949351"
      ]
     },
     "execution_count": 11,
     "metadata": {},
     "output_type": "execute_result"
    }
   ],
   "source": [
    "score_spambase"
   ]
  },
  {
   "cell_type": "code",
   "execution_count": 21,
   "metadata": {
    "collapsed": false
   },
   "outputs": [
    {
     "data": {
      "text/plain": [
       "0.60202604920405212"
      ]
     },
     "execution_count": 21,
     "metadata": {},
     "output_type": "execute_result"
    }
   ],
   "source": [
    "clf = tree.DecisionTreeClassifier()\n",
    "X_train_reduced = PCA(n_components=5).fit_transform(X_train)\n",
    "X_test_reduced = PCA(n_components=5).transform(X_test)\n",
    "tree_spambase = clf.fit(X_train_reduced,y_train)\n",
    "clf.score(X_test_reduced,y_test)"
   ]
  },
  {
   "cell_type": "code",
   "execution_count": 13,
   "metadata": {
    "collapsed": false
   },
   "outputs": [
    {
     "name": "stdout",
     "output_type": "stream",
     "text": [
      "The score :  0.859623733719  is for dimensions :  10\n",
      "The score :  0.858176555716  is for dimensions :  11\n",
      "The score :  0.876989869754  is for dimensions :  12\n",
      "The score :  0.874095513748  is for dimensions :  13\n",
      "The score :  0.901591895803  is for dimensions :  14\n",
      "The score :  0.897250361795  is for dimensions :  15\n",
      "The score :  0.875542691751  is for dimensions :  16\n",
      "The score :  0.884225759768  is for dimensions :  17\n",
      "The score :  0.891461649783  is for dimensions :  18\n",
      "The score :  0.895803183792  is for dimensions :  19\n",
      "The score :  0.89001447178  is for dimensions :  20\n",
      "The score :  0.892908827786  is for dimensions :  21\n",
      "The score :  0.887120115774  is for dimensions :  22\n",
      "The score :  0.888567293777  is for dimensions :  23\n",
      "The score :  0.89001447178  is for dimensions :  24\n",
      "The score :  0.89001447178  is for dimensions :  25\n",
      "The score :  0.884225759768  is for dimensions :  26\n",
      "The score :  0.892908827786  is for dimensions :  27\n",
      "The score :  0.881331403763  is for dimensions :  28\n",
      "The score :  0.885672937771  is for dimensions :  29\n",
      "The score :  0.891461649783  is for dimensions :  30\n",
      "The score :  0.903039073806  is for dimensions :  31\n",
      "The score :  0.894356005789  is for dimensions :  32\n",
      "The score :  0.898697539797  is for dimensions :  33\n",
      "The score :  0.872648335745  is for dimensions :  34\n",
      "The score :  0.876989869754  is for dimensions :  35\n",
      "The score :  0.894356005789  is for dimensions :  36\n",
      "The score :  0.89001447178  is for dimensions :  37\n",
      "The score :  0.878437047757  is for dimensions :  38\n",
      "The score :  0.884225759768  is for dimensions :  39\n",
      "The score :  0.894356005789  is for dimensions :  40\n",
      "The score :  0.894356005789  is for dimensions :  41\n",
      "The score :  0.884225759768  is for dimensions :  42\n",
      "The score :  0.891461649783  is for dimensions :  43\n",
      "The score :  0.876989869754  is for dimensions :  44\n",
      "The score :  0.888567293777  is for dimensions :  45\n",
      "The score :  0.888567293777  is for dimensions :  46\n",
      "The score :  0.89001447178  is for dimensions :  47\n",
      "The score :  0.87988422576  is for dimensions :  48\n",
      "The score :  0.87988422576  is for dimensions :  49\n",
      "The score :  0.885672937771  is for dimensions :  50\n",
      "The score :  0.881331403763  is for dimensions :  51\n",
      "The score :  0.894356005789  is for dimensions :  52\n",
      "The score :  0.885672937771  is for dimensions :  53\n",
      "The score :  0.905933429812  is for dimensions :  54\n",
      "The score :  0.9001447178  is for dimensions :  55\n",
      "The score :  0.891461649783  is for dimensions :  56\n"
     ]
    }
   ],
   "source": [
    "for i in range(10,len(X_test[0])):\n",
    "    clf = tree.DecisionTreeClassifier()\n",
    "    pca = PCA(n_components=i)\n",
    "    X_train_reduced = pca.fit_transform(list(X_train))\n",
    "    X_test_reduced = pca.transform(list(X_test))\n",
    "    tree_spambase = clf.fit(X_train_reduced,y_train)\n",
    "    print \"The score : \",clf.score(X_test_reduced,y_test),\" is for dimensions : \",len(X_train_reduced[0])"
   ]
  },
  {
   "cell_type": "code",
   "execution_count": null,
   "metadata": {
    "collapsed": true
   },
   "outputs": [],
   "source": []
  }
 ],
 "metadata": {
  "anaconda-cloud": {},
  "kernelspec": {
   "display_name": "Python [default]",
   "language": "python",
   "name": "python2"
  },
  "language_info": {
   "codemirror_mode": {
    "name": "ipython",
    "version": 2
   },
   "file_extension": ".py",
   "mimetype": "text/x-python",
   "name": "python",
   "nbconvert_exporter": "python",
   "pygments_lexer": "ipython2",
   "version": "2.7.12"
  }
 },
 "nbformat": 4,
 "nbformat_minor": 1
}
