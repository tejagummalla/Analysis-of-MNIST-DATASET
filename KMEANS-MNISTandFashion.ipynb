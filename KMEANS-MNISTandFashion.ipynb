{
 "cells": [
  {
   "cell_type": "code",
   "execution_count": 1,
   "metadata": {
    "collapsed": true
   },
   "outputs": [],
   "source": [
    "from sklearn import datasets\n",
    "from sklearn.metrics.pairwise import cosine_similarity\n",
    "from sklearn.metrics.pairwise import euclidean_distances\n",
    "from sklearn.feature_extraction.text import TfidfVectorizer\n",
    "from sklearn.datasets import fetch_mldata\n",
    "from scipy import sparse\n",
    "from sklearn.datasets.samples_generator import make_blobs\n",
    "\n",
    "\n",
    "import numpy as np\n",
    "import sys\n",
    "import csv\n",
    "import random#FASHION \n",
    "import pickle\n"
   ]
  },
  {
   "cell_type": "code",
   "execution_count": 2,
   "metadata": {
    "collapsed": false
   },
   "outputs": [],
   "source": [
    "#kmeans\n",
    "import random\n",
    "from sklearn.metrics.pairwise import cosine_similarity\n",
    "from operator import add\n",
    "from scipy import sparse\n",
    "def kmeans(data,k) :\n",
    "    \n",
    "    n = len(data)\n",
    "    m = len(data[0])\n",
    "    print \"data has total \",n,\" data points\"\n",
    "    start_points = random.sample(range(n),k)\n",
    "    print \"the initial points are : \",start_points\n",
    "    centers = [data[start_points[i]] for i in range(k)]\n",
    "    \n",
    "    old_groups = [[]for i in range(k)]\n",
    "    group_members = [[] for i in range(k)]\n",
    "    new_centers = [[0 for j in range(m)]for i in range(k)]\n",
    "    iteration = 0\n",
    "    while(True):\n",
    "        \n",
    "        similarity_matrix = cosine_similarity(data,centers)\n",
    "        \n",
    "        \n",
    "        print \"Iteration \",iteration\n",
    "        iteration += 1\n",
    "        \n",
    "        for i in range(n) :\n",
    "            max_similarity = 0\n",
    "            group = 0\n",
    "#             for j in range(k):\n",
    "#                 similarity = similarity_matrix[i][j]\n",
    "#                 if max_similarity < similarity:\n",
    "#                     max_similarity = similarity\n",
    "#                     group = j\n",
    "            group = np.argmax(similarity_matrix[i])\n",
    "            #assign i to group member \n",
    "            group_members[group].append(i)\n",
    "            try:\n",
    "                new_centers[group] = map(add, new_centers[group], data[i])\n",
    "            except:\n",
    "                print data[i],new_centers[group]\n",
    "                return []\n",
    "        \n",
    "        #averaging the groups\n",
    "        for j in range(k):\n",
    "            new_centers[j] = [(new_centers[j][i]/len(group_members[j])) for i in range(m)]\n",
    "        \n",
    "#         if values of new centers is same as old\n",
    "        if new_centers == centers :\n",
    "            return group_members\n",
    "\n",
    "#         if group_members == old_groups:\n",
    "#             return group_members\n",
    "\n",
    "        centers = list(new_centers)\n",
    "        new_centers = [[0 for j in range(m)]for i in range(k)]\n",
    "        old_groups = list(group_members)\n",
    "        group_members = [[] for i in range(k)]\n",
    "        "
   ]
  },
  {
   "cell_type": "code",
   "execution_count": 7,
   "metadata": {
    "collapsed": true
   },
   "outputs": [],
   "source": [
    "from collections import Counter\n",
    "\n",
    "def purity(groups,k,N):\n",
    "    labels_minst =  label\n",
    "#     labels_minst = targets[:N]\n",
    "#     print groups\n",
    "    label_group = [[]for i in range(k)]\n",
    "    for i in range(k):\n",
    "        for j in range(len(groups[i])):\n",
    "            label_group[i].append(labels_minst[groups[i][j]])\n",
    "#     print len(label_group[1])\n",
    "\n",
    "    ratio = 0\n",
    "    for i in label_group:\n",
    "        most_common,num_most_common = Counter(i).most_common(1)[0]\n",
    "#         print most_common,num_most_common,len(i)\n",
    "        ratio += num_most_common\n",
    "#     print ratio,N\n",
    "    print ratio*1.0/N\n",
    "    "
   ]
  },
  {
   "cell_type": "code",
   "execution_count": 8,
   "metadata": {
    "collapsed": true
   },
   "outputs": [],
   "source": [
    "import collections\n",
    "def giniIndex(groups,k,N):\n",
    "    labels_minst = label\n",
    "    label_group = [[]for i in range(k)]\n",
    "    for i in range(k):\n",
    "        for j in range(len(groups[i])):\n",
    "            label_group[i].append(labels_minst[groups[i][j]])\n",
    "   \n",
    "    G = [0 for i in range(len(label_group))]\n",
    "    z = 0\n",
    "    for i in label_group:\n",
    "        s = 0\n",
    "        c = collections.Counter(i)\n",
    "#         print c\n",
    "        for j in c:\n",
    "            s += pow((c[int(j)]*1.0)/len(i),2)\n",
    "        G[int(z)] = 1 - s\n",
    "        z += 1\n",
    "    #print G\n",
    "    s = 0\n",
    "    for i in range(len(G)):\n",
    "        s += G[i]*len(label_group[i])\n",
    "    \n",
    "    return s/N\n",
    "    "
   ]
  },
  {
   "cell_type": "code",
   "execution_count": null,
   "metadata": {
    "collapsed": false
   },
   "outputs": [
    {
     "name": "stdout",
     "output_type": "stream",
     "text": [
      "10000 784\n",
      "data has total  10000  data points\n",
      "the initial points are :  [7757, 7309, 3679, 1029, 8644, 8736, 1665, 5606, 8244, 318]\n",
      "Iteration  0\n",
      "Iteration  1\n",
      "Iteration  2\n",
      "Iteration  3\n",
      "Iteration  4\n",
      "Iteration  5\n",
      "Iteration  6\n",
      "Iteration  7\n",
      "Iteration  8\n",
      "Iteration  9\n",
      "Iteration  10\n",
      "Iteration  11\n",
      "Iteration  12\n",
      "Iteration  13\n",
      "Iteration  14\n",
      "Iteration  15\n",
      "Iteration  16\n",
      "Iteration  17\n",
      "Iteration  18\n",
      "Iteration  19\n",
      "Iteration  20\n",
      "Iteration  21\n",
      "Iteration  22\n",
      "Iteration  23\n",
      "Iteration  24\n",
      "Iteration  25\n",
      "Iteration  26\n",
      "Iteration  27\n",
      "Iteration  28\n",
      "Iteration  29\n",
      "Iteration  30\n",
      "Iteration  31\n",
      "Iteration  32\n",
      "Iteration  33\n",
      "Iteration  34\n"
     ]
    }
   ],
   "source": [
    "#FASHION \n",
    "data =[]\n",
    "label = {}\n",
    "with open(\"fashion-mnist_test.csv\",\"rb\") as f:\n",
    "    dat = csv.reader(f)\n",
    "    c = -1\n",
    "    for row in dat:\n",
    "        \n",
    "        if c != -1:\n",
    "            a = map(float,row)\n",
    "            data.append(a[1:])\n",
    "            label[c] = a[0]\n",
    "        c+=1\n",
    "    print len(data), len(data[0])\n",
    "\n",
    "final_group = kmeans(data,10)"
   ]
  },
  {
   "cell_type": "code",
   "execution_count": 10,
   "metadata": {
    "collapsed": false
   },
   "outputs": [
    {
     "name": "stdout",
     "output_type": "stream",
     "text": [
      "0.4561\n",
      "0.628838831792\n"
     ]
    }
   ],
   "source": [
    "#training data\n",
    "purity(final_group,10,len(data))\n",
    "print giniIndex(final_group,10,len(data))"
   ]
  },
  {
   "cell_type": "code",
   "execution_count": 16,
   "metadata": {
    "collapsed": false
   },
   "outputs": [
    {
     "name": "stdout",
     "output_type": "stream",
     "text": [
      "0.6615\n",
      "0.440875973912\n"
     ]
    }
   ],
   "source": [
    "#data k = 20\n",
    "purity(final_group,20,len(data))\n",
    "print giniIndex(final_group,20,len(data))"
   ]
  },
  {
   "cell_type": "code",
   "execution_count": 18,
   "metadata": {
    "collapsed": false
   },
   "outputs": [
    {
     "name": "stdout",
     "output_type": "stream",
     "text": [
      "0.3728\n",
      "0.71569516307\n"
     ]
    }
   ],
   "source": [
    "#training data\n",
    "purity(final_group,5,len(data))\n",
    "print giniIndex(final_group,5,len(data))"
   ]
  },
  {
   "cell_type": "code",
   "execution_count": 66,
   "metadata": {
    "collapsed": false
   },
   "outputs": [
    {
     "name": "stdout",
     "output_type": "stream",
     "text": [
      "0.5876\n",
      "0.515426567022\n"
     ]
    }
   ],
   "source": [
    "#Testing data\n",
    "purity(final_group,10,len(data))\n",
    "print giniIndex(final_group,10,len(data))"
   ]
  },
  {
   "cell_type": "code",
   "execution_count": 2,
   "metadata": {
    "collapsed": false
   },
   "outputs": [],
   "source": [
    "from sklearn.model_selection import train_test_split\n",
    "mnist = fetch_mldata('MNIST original')\n",
    "X_train, X_test, y_train, y_test = train_test_split(mnist.data,mnist.target, test_size=0.15)\n",
    "labels_minst = {}\n",
    "# for i in range(len(y_train)):\n",
    "#     labels_minst[i] = y_train[i]\n",
    "# mnist_data = [[None for  j in range(len(X_train[0]))] for i in range(len(X_train))] \n",
    "# for i in range(len(X_train)):\n",
    "#     for j in range(len(X_train[0])):\n",
    "#         mnist_data[i][j] = float(X_train[i][j])\n",
    "# y_test = y_test[:10000]\n",
    "# X_test = X_test[:10000]\n",
    "for i in range(len(y_test)):\n",
    "    labels_minst[i] = y_test[i]\n",
    "\n",
    "mnist_data = [[None for  j in range(len(X_test[0]))] for i in range(len(X_test))] \n",
    "for i in range(len(X_test)):\n",
    "    for j in range(len(X_test[0])):\n",
    "        mnist_data[i][j] = float(X_test[i][j])\n",
    "        \n",
    "final_group_mnist = kmeans(mnist_data,10)"
   ]
  },
  {
   "cell_type": "code",
   "execution_count": 68,
   "metadata": {
    "collapsed": false
   },
   "outputs": [
    {
     "data": {
      "image/png": "[encoded data removed]",
      "text/plain": [
       "<matplotlib.figure.Figure at 0x112a0a90>"
      ]
     },
     "metadata": {},
     "output_type": "display_data"
    },
    {
     "data": {
      "image/png": "[encoded data removed]",
      "text/plain": [
       "<matplotlib.figure.Figure at 0x69648208>"
      ]
     },
     "metadata": {},
     "output_type": "display_data"
    },
    {
     "data": {
      "image/png": "[encoded data removed]",
      "text/plain": [
       "<matplotlib.figure.Figure at 0x6b66ab70>"
      ]
     },
     "metadata": {},
     "output_type": "display_data"
    },
    {
     "data": {
      "image/png": "[encoded data removed]",
      "text/plain": [
       "<matplotlib.figure.Figure at 0x6b65b0b8>"
      ]
     },
     "metadata": {},
     "output_type": "display_data"
    },
    {
     "data": {
      "image/png": "[encoded data removed]",
      "text/plain": [
       "<matplotlib.figure.Figure at 0x112acb70>"
      ]
     },
     "metadata": {},
     "output_type": "display_data"
    },
    {
     "data": {
      "image/png": "[encoded data removed]",
      "text/plain": [
       "<matplotlib.figure.Figure at 0x5fc133c8>"
      ]
     },
     "metadata": {},
     "output_type": "display_data"
    },
    {
     "data": {
      "image/png": "[encoded data removed]",
      "text/plain": [
       "<matplotlib.figure.Figure at 0x6b50e550>"
      ]
     },
     "metadata": {},
     "output_type": "display_data"
    },
    {
     "data": {
      "image/png": "[encoded data removed]",
      "text/plain": [
       "<matplotlib.figure.Figure at 0x2985bd30>"
      ]
     },
     "metadata": {},
     "output_type": "display_data"
    },
    {
     "data": {
      "image/png": "[encoded data removed]",
      "text/plain": [
       "<matplotlib.figure.Figure at 0x7ad67eb8>"
      ]
     },
     "metadata": {},
     "output_type": "display_data"
    },
    {
     "data": {
      "image/png": "[encoded data removed]",
      "text/plain": [
       "<matplotlib.figure.Figure at 0x6baab8d0>"
      ]
     },
     "metadata": {},
     "output_type": "display_data"
    },
    {
     "data": {
      "image/png": "[encoded data removed]",
      "text/plain": [
       "<matplotlib.figure.Figure at 0x6b72ac88>"
      ]
     },
     "metadata": {},
     "output_type": "display_data"
    },
    {
     "data": {
      "image/png": "[encoded data removed]",
      "text/plain": [
       "<matplotlib.figure.Figure at 0x7ad5fa20>"
      ]
     },
     "metadata": {},
     "output_type": "display_data"
    },
    {
     "data": {
      "image/png": "[encoded data removed]",
      "text/plain": [
       "<matplotlib.figure.Figure at 0x6baa7860>"
      ]
     },
     "metadata": {},
     "output_type": "display_data"
    },
    {
     "data": {
      "image/png": "[encoded data removed]",
      "text/plain": [
       "<matplotlib.figure.Figure at 0x69992be0>"
      ]
     },
     "metadata": {},
     "output_type": "display_data"
    },
    {
     "data": {
      "image/png": "[encoded data removed]",
      "text/plain": [
       "<matplotlib.figure.Figure at 0x6965f588>"
      ]
     },
     "metadata": {},
     "output_type": "display_data"
    },
    {
     "data": {
      "image/png": "[encoded data removed]",
      "text/plain": [
       "<matplotlib.figure.Figure at 0x59cc02e8>"
      ]
     },
     "metadata": {},
     "output_type": "display_data"
    },
    {
     "data": {
      "image/png": "[encoded data removed]",
      "text/plain": [
       "<matplotlib.figure.Figure at 0x19c2cba8>"
      ]
     },
     "metadata": {},
     "output_type": "display_data"
    },
    {
     "data": {
      "image/png": "[encoded data removed]",
      "text/plain": [
       "<matplotlib.figure.Figure at 0x6b749240>"
      ]
     },
     "metadata": {},
     "output_type": "display_data"
    },
    {
     "data": {
      "image/png": "[encoded data removed]",
      "text/plain": [
       "<matplotlib.figure.Figure at 0x2b21cd30>"
      ]
     },
     "metadata": {},
     "output_type": "display_data"
    },
    {
     "data": {
      "image/png": "[encoded data removed]",
      "text/plain": [
       "<matplotlib.figure.Figure at 0x2d57a198>"
      ]
     },
     "metadata": {},
     "output_type": "display_data"
    }
   ],
   "source": [
    "import matplotlib.pyplot as plt\n",
    "for i in range(10):\n",
    "    plt.imshow(np.reshape(c1[i].todense().tolist()[0],(28,28)))\n",
    "    plt.show()\n",
    "    plt.imshow(np.reshape(c2[i],(28,28)))\n",
    "    plt.show()\n"
   ]
  },
  {
   "cell_type": "code",
   "execution_count": 1,
   "metadata": {
    "collapsed": false
   },
   "outputs": [],
   "source": [
    "#Test Data\n",
    "# purity(final_group_mnist,10,len(X_test))\n",
    "# print giniIndex(final_group_mnist,10,len(X_test))"
   ]
  },
  {
   "cell_type": "code",
   "execution_count": 10,
   "metadata": {
    "collapsed": false
   },
   "outputs": [
    {
     "name": "stdout",
     "output_type": "stream",
     "text": [
      "0.469333333333\n",
      "0.647391170848\n"
     ]
    }
   ],
   "source": [
    "#Data with k =5\n",
    "purity(final_group_mnist,5,len(X_test))\n",
    "print giniIndex(final_group_mnist,5,len(X_test))"
   ]
  },
  {
   "cell_type": "code",
   "execution_count": 12,
   "metadata": {
    "collapsed": false
   },
   "outputs": [
    {
     "name": "stdout",
     "output_type": "stream",
     "text": [
      "0.712666666667\n",
      "0.39709745993\n"
     ]
    }
   ],
   "source": [
    "#Data with k = 20\n",
    "purity(final_group_mnist,20,len(X_test))\n",
    "print giniIndex(final_group_mnist,20,len(X_test))"
   ]
  },
  {
   "cell_type": "code",
   "execution_count": 7,
   "metadata": {
    "collapsed": false
   },
   "outputs": [
    {
     "name": "stdout",
     "output_type": "stream",
     "text": [
      "0.600605042017\n",
      "0.526045338007\n"
     ]
    }
   ],
   "source": [
    "#Train Data\n",
    "purity(final_group_mnist,10,len(X_train))\n",
    "print giniIndex(final_group_mnist,10,len(X_train))"
   ]
  },
  {
   "cell_type": "code",
   "execution_count": 75,
   "metadata": {
    "collapsed": false
   },
   "outputs": [
    {
     "name": "stdout",
     "output_type": "stream",
     "text": [
      "From: Robert Everett Brunskill <rb6t+@andrew.cmu.edu>\n",
      "Subject: Re: $$$ to fix TRACKBALL\n",
      "Organization: Freshman, Electrical and Computer Engineering, Carnegie Mellon, Pittsburgh, PA\n",
      "Lines: 7\n",
      "NNTP-Posting-Host: po4.andrew.cmu.edu\n",
      "In-Reply-To: <93105.152944BR4416A@auvm.american.edu>\n",
      "\n",
      "Of course, if you want to check the honesty of your dealler, take it in\n",
      "knowing what's wrong, and ask them to tell you. :)\n",
      "\n",
      "Of course he'll probably know right a way, then charge you a $20 service\n",
      "fee. :)\n",
      "\n",
      "Rob\n",
      "\n"
     ]
    }
   ],
   "source": [
    "#20 NG news group.\n",
    "newsgroup_train = datasets.fetch_20newsgroups(subset = 'train')\n",
    "newsgroup_test = datasets.fetch_20newsgroups(subset = 'test')\n",
    "data = newsgroup_train.data + newsgroup_test.data\n",
    "targets = list(newsgroup_train.target) + list(newsgroup_test.target)\n",
    "print data[45]"
   ]
  },
  {
   "cell_type": "code",
   "execution_count": 115,
   "metadata": {
    "collapsed": false
   },
   "outputs": [],
   "source": [
    "# from nltk.corpus import stopwords\n",
    "# from nltk.tokenize import word_tokenize\n",
    "# stop_words = set(stopwords.words('english'))\n",
    "\n",
    "# for i in range(len(data)):\n",
    "#     if i %100 == 0:\n",
    "#         print i\n",
    "#     data[i] = word_tokenize(data[i])\n",
    "#     data[i] = [w for w in data[i] if (not w in stop_words) and w.isalnum()]"
   ]
  },
  {
   "cell_type": "code",
   "execution_count": 94,
   "metadata": {
    "collapsed": false
   },
   "outputs": [
    {
     "data": {
      "text/plain": [
       "u'From jgreen amber Joe Green Subject Re Weitek P9000 Organization Harris Computer Systems Division Lines 14 Distribution world TIN version PL9 Robert Kyanko rob wrote abraxis writes article Anyone know Weitek P9000 graphics chip As far stuff goes looks pretty nice It got quadrilateral fill command requires four points Do Weitek number I like get information chip Joe Green Harris Corporation jgreen Computer Systems Division The thing really scares person sense humor Jonathan Winters'"
      ]
     },
     "execution_count": 94,
     "metadata": {},
     "output_type": "execute_result"
    }
   ],
   "source": [
    "data[3]"
   ]
  },
  {
   "cell_type": "code",
   "execution_count": 71,
   "metadata": {
    "collapsed": true
   },
   "outputs": [],
   "source": [
    "from nltk.corpus import words"
   ]
  },
  {
   "cell_type": "code",
   "execution_count": 73,
   "metadata": {
    "collapsed": false
   },
   "outputs": [
    {
     "data": {
      "text/plain": [
       "False"
      ]
     },
     "execution_count": 73,
     "metadata": {},
     "output_type": "execute_result"
    }
   ],
   "source": [
    "\"hel\" in words.words()"
   ]
  },
  {
   "cell_type": "code",
   "execution_count": 90,
   "metadata": {
    "collapsed": false
   },
   "outputs": [],
   "source": [
    "for i in range(len(data)):\n",
    "    data[i] = \" \".join(data[i])"
   ]
  },
  {
   "cell_type": "code",
   "execution_count": 95,
   "metadata": {
    "collapsed": false
   },
   "outputs": [],
   "source": [
    "import pickle\n",
    "pickle.dump( data, open( \"save.p\", \"wb\" ) )"
   ]
  },
  {
   "cell_type": "code",
   "execution_count": 78,
   "metadata": {
    "collapsed": false
   },
   "outputs": [
    {
     "name": "stdout",
     "output_type": "stream",
     "text": [
      "From Robert Everett Brunskill Subject Re fix TRACKBALL Organization Freshman Electrical Computer Engineering Carnegie Mellon Pittsburgh PA Lines 7 Of course want check honesty dealler take knowing wrong ask tell Of course probably know right way charge 20 service fee Rob\n"
     ]
    }
   ],
   "source": [
    "import pickle\n",
    "data = pickle.load(open( \"save.p\", \"rb\" ))\n",
    "print data[45]\n",
    "vectorizer = TfidfVectorizer()\n",
    "vectors = vectorizer.fit_transform(data[:10000])"
   ]
  },
  {
   "cell_type": "code",
   "execution_count": 17,
   "metadata": {
    "collapsed": false
   },
   "outputs": [],
   "source": [
    "# v = vectors.todense()#.tolist()[0]\n",
    "# v = [v[i].tolist()[0] for i in range(len(v))]\n",
    "# len(v[0])\n",
    "# ng = kmeans(v,20)\n",
    "# v = 0"
   ]
  },
  {
   "cell_type": "code",
   "execution_count": 44,
   "metadata": {
    "collapsed": false,
    "scrolled": false
   },
   "outputs": [
    {
     "name": "stdout",
     "output_type": "stream",
     "text": [
      "[[ 0.69119076  0.48130557  0.         ...,  0.          0.          0.        ]\n",
      " [ 0.69119076  0.48130557  0.         ...,  0.          0.          0.        ]]\n"
     ]
    }
   ],
   "source": [
    "# # vectors[0].todense().tolist()[0]\n",
    "# start_points = random.sample(range(5000),200)\n",
    "\n",
    "# a = vectors.getrow(start_points[0])\n",
    "# for i in range(1,len(start_points)):\n",
    "#     a += vectors[start_points[i]]\n",
    "# b = a\n",
    "# # a = a/len(start_points)\n",
    "# print np.vstack([a.todense(),b.todense()])"
   ]
  },
  {
   "cell_type": "code",
   "execution_count": 81,
   "metadata": {
    "collapsed": false
   },
   "outputs": [
    {
     "name": "stdout",
     "output_type": "stream",
     "text": [
      "The purity for 20 ng is : 0.522\n",
      "None\n"
     ]
    }
   ],
   "source": [
    "print \"The purity for 20 ng is :\",purity(fin_group,20,10000)\n",
    "# targets[:1000]\n",
    "# print fin_group"
   ]
  },
  {
   "cell_type": "code",
   "execution_count": 79,
   "metadata": {
    "collapsed": false
   },
   "outputs": [
    {
     "name": "stdout",
     "output_type": "stream",
     "text": [
      "data has total  10000  data points\n",
      "the initial points are :  [3097, 4455, 1188, 8465, 1697, 597, 6845, 1021, 9490, 942, 7453, 4651, 3381, 9183, 75, 8875, 9432, 8753, 452, 2957]\n",
      "Iteration  0\n",
      "Iteration  1\n",
      "Iteration  2\n",
      "Iteration  3\n",
      "Iteration  4\n",
      "Iteration  5\n",
      "Iteration  6\n",
      "Iteration  7\n",
      "Iteration  8\n",
      "Iteration  9\n",
      "Iteration  10\n",
      "Iteration  11\n",
      "Iteration  12\n",
      "Iteration  13\n",
      "Iteration  14\n",
      "Iteration  15\n",
      "Iteration  16\n",
      "Iteration  17\n",
      "Iteration  18\n",
      "Iteration  19\n",
      "Iteration  20\n",
      "Iteration  21\n",
      "Iteration  22\n",
      "Iteration  23\n",
      "Iteration  24\n",
      "Iteration  25\n",
      "Iteration  26\n",
      "Iteration  27\n",
      "Iteration  28\n",
      "Iteration  29\n",
      "Iteration  30\n",
      "Iteration  31\n",
      "Iteration  32\n",
      "Iteration  33\n",
      "Iteration  34\n",
      "Iteration  35\n",
      "Iteration  36\n"
     ]
    }
   ],
   "source": [
    "fin_group = kmeans_20NG([],vectors,20)\n",
    "# print fin_group"
   ]
  },
  {
   "cell_type": "code",
   "execution_count": 70,
   "metadata": {
    "collapsed": false
   },
   "outputs": [],
   "source": [
    "#kmeans\n",
    "import random\n",
    "from sklearn.metrics.pairwise import cosine_similarity\n",
    "from operator import add\n",
    "from scipy import sparse\n",
    "c1 =0\n",
    "c2 =0\n",
    "def kmeans_20NG(dense_data,data,k) :\n",
    "#     data = vectors\n",
    "    n = data.shape[0]\n",
    "    m = data.shape[1]\n",
    "    \n",
    "    \n",
    "    print \"data has total \",n,\" data points\"\n",
    "    start_points = random.sample(range(n),k)\n",
    "    centers = []\n",
    "    print \"the initial points are : \",start_points\n",
    "    \n",
    "#     centers = np.asarray([data[start_points[i]].todense().tolist()[0] for i in range(k)])\n",
    "    for i in range(k):\n",
    "        if i ==0:\n",
    "            centers = data[start_points[i]].todense()\n",
    "        else:\n",
    "            centers = np.row_stack((centers,data[start_points[i]].todense()))\n",
    "    centers = sparse.csc_matrix(centers)\n",
    "\n",
    "    #     print centers[2]\n",
    "    old_groups = [[]for i in range(k)]\n",
    "    group_members = [[] for i in range(k)]\n",
    "#     new_centers = sparse.csr_matrix([[0 for j in range(m)]for i in range(k)])\n",
    "    iteration = 0\n",
    "    \n",
    "    while(True):\n",
    "        \n",
    "#         print data[0], centers\n",
    "#         print data.shape, centers.shape\n",
    "        \n",
    "#         print centers,dense_centers\n",
    "\n",
    "        similarity_matrix = cosine_similarity(data,centers)\n",
    "        print \"Iteration \",iteration\n",
    "        iteration += 1\n",
    "        \n",
    "        for i in range(n) :\n",
    "            max_similarity = 0\n",
    "            group = 0\n",
    "            for j in range(k):\n",
    "                similarity = similarity_matrix[i][j]\n",
    "                if max_similarity < similarity:\n",
    "                    max_similarity = similarity\n",
    "                    group = j\n",
    "                    \n",
    "            #assign i to group member \n",
    "            group_members[group].append(i)\n",
    "            \n",
    "#         for j in range(len(group_members)):\n",
    "#             if not group_members[j]:\n",
    "#                 group_members[j].append(random.sample(range(n),1))\n",
    "            \n",
    "        for j in range(len(group_members)):\n",
    "            g_m = group_members[j]\n",
    "            \n",
    "            stack = data.getrow(g_m[0])\n",
    "            for v in range(1,len(g_m)) :\n",
    "                stack = stack + data[g_m[v]]\n",
    "            stack = stack / len(g_m)\n",
    "            if j == 0:\n",
    "                new_centers = stack.todense()\n",
    "            else:\n",
    "                new_centers = np.row_stack((new_centers,stack.todense()))\n",
    "        \n",
    "        #if values of new centers is same as old\n",
    "        if group_members == old_groups : #or iteration == 30:\n",
    "            return group_members\n",
    "        centers = sparse.csr_matrix(new_centers)\n",
    "#         print centers.shape\n",
    "        new_centers = [[0 for j in range(m)]for i in range(k)]\n",
    "        old_groups = list(group_members)\n",
    "        group_members = [[] for i in range(k)]\n",
    "        \n",
    "\n",
    "#         dense_similarity_matrix = cosine_similarity(dense_data,dense_centers)\n",
    "\n",
    "\n",
    "#         print \"Iteration \",dense_iteration\n",
    "#         dense_iteration += 1\n",
    "\n",
    "#         for i in range(dense_n) :\n",
    "#             dense_max_similarity = 0\n",
    "#             dense_group = 0\n",
    "#             for j in range(k):\n",
    "#                 dense_similarity = dense_similarity_matrix[i][j]\n",
    "#                 if dense_max_similarity < dense_similarity:\n",
    "#                     dense_max_similarity = dense_similarity\n",
    "#                     dense_group = j\n",
    "#             #assign i to group member \n",
    "#             dense_group_members[dense_group].append(i)\n",
    "#             try:\n",
    "#                 dense_new_centers[dense_group] = map(add, dense_new_centers[dense_group], dense_data[i])\n",
    "#             except:\n",
    "#                 print dense_data[i],dense_new_centers[dense_group]\n",
    "#                 return []\n",
    "\n",
    "#         #averaging the groups\n",
    "#         for j in range(k):\n",
    "#             dense_new_centers[j] = [(dense_new_centers[j][i]/len(dense_group_members[j])) for i in range(dense_m)]\n",
    "\n",
    "# #         if values of new centers is same as old\n",
    "#         if dense_new_centers == dense_centers :\n",
    "#             return dense_group_members\n",
    "\n",
    "# #         if group_members == old_groups:\n",
    "# #             return group_members\n",
    "\n",
    "#         dense_centers = list(dense_new_centers)\n",
    "#         dense_new_centers = [[0 for j in range(dense_m)]for i in range(k)]\n",
    "#         dense_old_groups = list(dense_group_members)\n",
    "#         dense_group_members = [[] for i in range(k)]\n",
    "#         if iteration ==5:\n",
    "#             c1 = centers\n",
    "#             c2 = dense_centers\n",
    "#     #     print centers[0], dense_centers[0]\n",
    "#     #     print centers[9], dense_centers[9]\n",
    "#             return c1,c2\n",
    "    "
   ]
  },
  {
   "cell_type": "code",
   "execution_count": 39,
   "metadata": {
    "collapsed": false
   },
   "outputs": [
    {
     "ename": "TypeError",
     "evalue": "'int' object has no attribute '__getitem__'",
     "output_type": "error",
     "traceback": [
      "\u001b[0;31m---------------------------------------------------------------------------\u001b[0m",
      "\u001b[0;31mTypeError\u001b[0m                                 Traceback (most recent call last)",
      "\u001b[0;32m<ipython-input-39-9dc87fba2a9b>\u001b[0m in \u001b[0;36m<module>\u001b[0;34m()\u001b[0m\n\u001b[0;32m----> 1\u001b[0;31m \u001b[0mc1\u001b[0m\u001b[1;33m[\u001b[0m\u001b[1;36m0\u001b[0m\u001b[1;33m]\u001b[0m\u001b[1;33m\u001b[0m\u001b[0m\n\u001b[0m",
      "\u001b[0;31mTypeError\u001b[0m: 'int' object has no attribute '__getitem__'"
     ]
    }
   ],
   "source": []
  },
  {
   "cell_type": "code",
   "execution_count": null,
   "metadata": {
    "collapsed": true
   },
   "outputs": [],
   "source": []
  }
 ],
 "metadata": {
  "anaconda-cloud": {},
  "kernelspec": {
   "display_name": "Python [conda root]",
   "language": "python",
   "name": "conda-root-py"
  },
  "language_info": {
   "codemirror_mode": {
    "name": "ipython",
    "version": 2
   },
   "file_extension": ".py",
   "mimetype": "text/x-python",
   "name": "python",
   "nbconvert_exporter": "python",
   "pygments_lexer": "ipython2",
   "version": "2.7.12"
  }
 },
 "nbformat": 4,
 "nbformat_minor": 1
}
