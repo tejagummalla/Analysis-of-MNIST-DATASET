{
 "cells": [
  {
   "cell_type": "code",
   "execution_count": 1,
   "metadata": {
    "collapsed": false
   },
   "outputs": [],
   "source": [
    "from sklearn import datasets\n",
    "from sklearn.metrics.pairwise import cosine_similarity\n",
    "from sklearn.metrics.pairwise import euclidean_distances\n",
    "from sklearn.feature_extraction.text import TfidfVectorizer\n",
    "from sklearn.datasets import fetch_mldata\n",
    "from scipy import sparse\n",
    "import numpy as np\n",
    "\n",
    "mnist = fetch_mldata('MNIST original')\n",
    "newsgroup_train = datasets.fetch_20newsgroups(subset = 'train')\n",
    "newsgroup_test = datasets.fetch_20newsgroups(subset = 'test')\n",
    "vectorizer = TfidfVectorizer()"
   ]
  },
  {
   "cell_type": "code",
   "execution_count": null,
   "metadata": {
    "collapsed": true
   },
   "outputs": [],
   "source": [
    "#Total time to compute the cosine of 20 ng is2 mins approx,\n",
    "# to compute mnist it is 55 mins"
   ]
  },
  {
   "cell_type": "code",
   "execution_count": 46,
   "metadata": {
    "collapsed": false
   },
   "outputs": [],
   "source": [
    "from sklearn.model_selection import train_test_split\n",
    "X_train, X_test, y_train, y_test = train_test_split(mnist.data,mnist.target, test_size=0.15)"
   ]
  },
  {
   "cell_type": "code",
   "execution_count": 39,
   "metadata": {
    "collapsed": false
   },
   "outputs": [
    {
     "data": {
      "text/plain": [
       "53900"
      ]
     },
     "execution_count": 39,
     "metadata": {},
     "output_type": "execute_result"
    }
   ],
   "source": []
  },
  {
   "cell_type": "code",
   "execution_count": 47,
   "metadata": {
    "collapsed": false
   },
   "outputs": [],
   "source": [
    "\n",
    "mnist_train_data = X_train\n",
    "mnist_test_data = X_test\n",
    "\n",
    "mnist_train_target = y_train\n",
    "mnist_test_target = y_test\n"
   ]
  },
  {
   "cell_type": "code",
   "execution_count": 49,
   "metadata": {
    "collapsed": false
   },
   "outputs": [
    {
     "name": "stdout",
     "output_type": "stream",
     "text": [
      "1\n"
     ]
    }
   ],
   "source": [
    "import numpy as np\n",
    "X_data = sparse.csr_matrix(mnist_train_data)\n",
    "Y_data = sparse.csr_matrix(mnist_test_data)\n",
    "\n",
    "cosine_similarity_mnist1 = cosine_similarity(Y_data[:4000], X_data)\n",
    "print\"1\"\n",
    "cosine_similarity_mnist2 = cosine_similarity(Y_data[4000:8000], X_data)\n",
    "cosine_similarity_mnist3 = cosine_similarity(Y_data[8000:], X_data)\n",
    "\n",
    "img_len = 784\n",
    "k = 5\n",
    "\n",
    "\n"
   ]
  },
  {
   "cell_type": "code",
   "execution_count": 71,
   "metadata": {
    "collapsed": false
   },
   "outputs": [
    {
     "name": "stdout",
     "output_type": "stream",
     "text": [
      "1\n",
      "2\n"
     ]
    }
   ],
   "source": [
    "euclidean_dist1 = euclidean_distances(Y_data[:4000], X_data)\n",
    "print \"1\"\n",
    "euclidean_dist2 = euclidean_distances(Y_data[4000:8000], X_data)\n",
    "print\"2\"\n",
    "euclidean_dist3 = euclidean_distances(Y_data[8000:], X_data)"
   ]
  },
  {
   "cell_type": "code",
   "execution_count": 80,
   "metadata": {
    "collapsed": false
   },
   "outputs": [
    {
     "data": {
      "text/plain": [
       "(2500L, 59500L)"
      ]
     },
     "execution_count": 80,
     "metadata": {},
     "output_type": "execute_result"
    }
   ],
   "source": [
    "euclidean_dist3.shape"
   ]
  },
  {
   "cell_type": "code",
   "execution_count": 83,
   "metadata": {
    "collapsed": false
   },
   "outputs": [
    {
     "name": "stdout",
     "output_type": "stream",
     "text": [
      "5.0\n",
      "0\n",
      "6.0\n",
      "1000\n",
      "2.0\n",
      "2000\n",
      "6.0\n",
      "3000\n",
      "8.0\n",
      "4000\n",
      "5.0\n",
      "5000\n",
      "9.0\n",
      "6000\n",
      "0.0\n",
      "7000\n",
      "2.0\n",
      "8000\n",
      "7.0\n",
      "9000\n",
      "5.0\n",
      "10000\n"
     ]
    }
   ],
   "source": [
    "count = 0\n",
    "pred_mnist = {}\n",
    "actual_mnist = {}\n",
    "element_n_n = []\n",
    "k=3\n",
    "for row in euclidean_dist1:\n",
    "    n_n = np.argsort(row)\n",
    "    element_n_n = []\n",
    "    for n in n_n[:k]:\n",
    "        element_n_n.append(mnist_train_target[n])\n",
    "    pred_mnist[count] = max(element_n_n,key = element_n_n.count)\n",
    "    if count % 1000 == 0:\n",
    "        print pred_mnist[count]\n",
    "        print count\n",
    "    actual_mnist[count] = mnist_test_target[count]\n",
    "    count += 1\n",
    "for row in euclidean_dist2:\n",
    "    n_n = np.argsort(row)\n",
    "    element_n_n = []\n",
    "    for n in n_n[:k]:\n",
    "        element_n_n.append(mnist_train_target[n])\n",
    "    pred_mnist[count] = max(element_n_n,key = element_n_n.count)\n",
    "    if count % 1000 == 0:\n",
    "        print pred_mnist[count]\n",
    "        print count\n",
    "    actual_mnist[count] = mnist_test_target[count]\n",
    "    count += 1\n",
    "for row in euclidean_dist3:\n",
    "    n_n = np.argsort(row)\n",
    "    element_n_n = []\n",
    "    for n in n_n[:k]:\n",
    "        element_n_n.append(mnist_train_target[n])\n",
    "    pred_mnist[count] = max(element_n_n,key = element_n_n.count)\n",
    "    if count == 10500:\n",
    "        print len(pred_mnist)\n",
    "    if count % 1000 == 0:\n",
    "        print pred_mnist[count]\n",
    "        print count\n",
    "    \n",
    "    actual_mnist[count] = mnist_test_target[count]\n",
    "    count += 1"
   ]
  },
  {
   "cell_type": "code",
   "execution_count": 77,
   "metadata": {
    "collapsed": false
   },
   "outputs": [
    {
     "data": {
      "text/plain": [
       "10501"
      ]
     },
     "execution_count": 77,
     "metadata": {},
     "output_type": "execute_result"
    }
   ],
   "source": [
    "len(pred_mnist)"
   ]
  },
  {
   "cell_type": "code",
   "execution_count": 84,
   "metadata": {
    "collapsed": false
   },
   "outputs": [
    {
     "name": "stdout",
     "output_type": "stream",
     "text": [
      " The accuray for mnist data set using euclidean and knn classification is : 0.975619047619\n"
     ]
    }
   ],
   "source": [
    "correct_mnist = 0\n",
    "for item in pred_mnist:\n",
    "    if item == 10500:\n",
    "        break\n",
    "    if pred_mnist[item] == actual_mnist[item]:\n",
    "        correct_mnist += 1\n",
    "print \" The accuray for mnist data set using euclidean and knn classification is :\",correct_mnist * 1.0/len(pred_mnist)"
   ]
  },
  {
   "cell_type": "code",
   "execution_count": 69,
   "metadata": {
    "collapsed": false
   },
   "outputs": [
    {
     "name": "stdout",
     "output_type": "stream",
     "text": [
      "5.0\n",
      "0\n",
      "6.0\n",
      "1000\n",
      "2.0\n",
      "2000\n",
      "6.0\n",
      "3000\n",
      "8.0\n",
      "4000\n",
      "5.0\n",
      "5000\n",
      "9.0\n",
      "6000\n",
      "0.0\n",
      "7000\n",
      "2.0\n",
      "8000\n",
      "7.0\n",
      "9000\n",
      "5.0\n",
      "10000\n"
     ]
    }
   ],
   "source": [
    "count = 0\n",
    "pred_mnist = {}\n",
    "actual_mnist = {}\n",
    "element_n_n = []\n",
    "k=3\n",
    "for row in cosine_similarity_mnist1:\n",
    "    n_n = np.argsort(row)\n",
    "    element_n_n = []\n",
    "    for n in n_n[len(cosine_similarity_mnist1[0])-k:]:\n",
    "        element_n_n.append(mnist_train_target[n])\n",
    "    pred_mnist[count] = max(element_n_n,key = element_n_n.count)\n",
    "    if count % 1000 == 0:\n",
    "        print pred_mnist[count]\n",
    "        print count\n",
    "    actual_mnist[count] = mnist_test_target[count]\n",
    "    count += 1\n",
    "for row in cosine_similarity_mnist2:\n",
    "    n_n = np.argsort(row)\n",
    "    element_n_n = []\n",
    "    for n in n_n[len(cosine_similarity_mnist2[0])-k:]:\n",
    "        element_n_n.append(mnist_train_target[n])\n",
    "    pred_mnist[count] = max(element_n_n,key = element_n_n.count)\n",
    "    if count % 1000 == 0:\n",
    "        print pred_mnist[count]\n",
    "        print count\n",
    "    actual_mnist[count] = mnist_test_target[count]\n",
    "    count += 1\n",
    "for row in cosine_similarity_mnist3:\n",
    "    n_n = np.argsort(row)\n",
    "    element_n_n = []\n",
    "    for n in n_n[len(cosine_similarity_mnist3[0])-k:]:\n",
    "        element_n_n.append(mnist_train_target[n])\n",
    "    pred_mnist[count] = max(element_n_n,key = element_n_n.count)\n",
    "    if count % 1000 == 0:\n",
    "        print pred_mnist[count]\n",
    "        print count\n",
    "    actual_mnist[count] = mnist_test_target[count]\n",
    "    count += 1\n"
   ]
  },
  {
   "cell_type": "code",
   "execution_count": 70,
   "metadata": {
    "collapsed": false
   },
   "outputs": [
    {
     "name": "stdout",
     "output_type": "stream",
     "text": [
      " The accuray for mnist data set using cosine similarity and knn classification is : 0.975904761905\n"
     ]
    }
   ],
   "source": [
    "correct_mnist = 0\n",
    "for item in pred_mnist:\n",
    "    if pred_mnist[item] == actual_mnist[item]:\n",
    "        correct_mnist += 1\n",
    "print \" The accuray for mnist data set using cosine similarity and knn classification is :\",correct_mnist * 1.0/len(pred_mnist)"
   ]
  },
  {
   "cell_type": "code",
   "execution_count": 66,
   "metadata": {
    "collapsed": true
   },
   "outputs": [],
   "source": [
    "def knn_mnist(idx,k):\n",
    "    if idx<4000:\n",
    "        n_n = np.argsort(cosine_similarity_mnist1[idx])\n",
    "        element_n_n = []\n",
    "        for n in n_n[len(cosine_similarity_mnist1[0])-k:]:\n",
    "            element_n_n.append(mnist_train_target[n])\n",
    "        \n",
    "    if idx>=4000 and idx<8000:\n",
    "        n_n = np.argsort(cosine_similarity_mnist2[idx-4000])\n",
    "        element_n_n = []\n",
    "        for n in n_n[len(cosine_similarity_mnist2[0])-k:]:\n",
    "            element_n_n.append(mnist_train_target[n])        \n",
    "    \n",
    "    if idx>=8000:\n",
    "        n_n = np.argsort(cosine_similarity_mnist3[idx-8000])\n",
    "        element_n_n = []\n",
    "        for n in n_n[len(cosine_similarity_mnist3[0])-k:]:\n",
    "            element_n_n.append(mnist_train_target[n])\n",
    "    print element_n_n"
   ]
  },
  {
   "cell_type": "code",
   "execution_count": 68,
   "metadata": {
    "collapsed": false
   },
   "outputs": [
    {
     "name": "stdout",
     "output_type": "stream",
     "text": [
      "[5.0, 5.0, 5.0, 5.0, 5.0]\n"
     ]
    }
   ],
   "source": [
    "knn_mnist(10000,5)"
   ]
  },
  {
   "cell_type": "code",
   "execution_count": 2,
   "metadata": {
    "collapsed": false
   },
   "outputs": [],
   "source": [
    "data = newsgroup_train.data + newsgroup_test.data\n",
    "# newsgroup_test.target[:10]\n",
    "labels = list(newsgroup_train.target) + list(newsgroup_test.target)"
   ]
  },
  {
   "cell_type": "code",
   "execution_count": 3,
   "metadata": {
    "collapsed": false
   },
   "outputs": [
    {
     "data": {
      "text/plain": [
       "(18846, 173762)"
      ]
     },
     "execution_count": 3,
     "metadata": {},
     "output_type": "execute_result"
    }
   ],
   "source": [
    "\n",
    "vectors = vectorizer.fit_transform(data)\n",
    "vectors.shape"
   ]
  },
  {
   "cell_type": "code",
   "execution_count": 4,
   "metadata": {
    "collapsed": false
   },
   "outputs": [],
   "source": [
    "ng_cosine = cosine_similarity(vectors)"
   ]
  },
  {
   "cell_type": "code",
   "execution_count": 10,
   "metadata": {
    "collapsed": false
   },
   "outputs": [
    {
     "name": "stdout",
     "output_type": "stream",
     "text": [
      "[[ 1.          0.04406554  0.10985565 ...,  0.08961846  0.0258091\n",
      "   0.06255719]\n",
      " [ 0.04406554  1.          0.06213095 ...,  0.04090985  0.02853774\n",
      "   0.02220228]\n",
      " [ 0.10985565  0.06213095  1.         ...,  0.10391138  0.02872048\n",
      "   0.0795105 ]\n",
      " ..., \n",
      " [ 0.08961846  0.04090985  0.10391138 ...,  1.          0.02650544\n",
      "   0.07288869]\n",
      " [ 0.0258091   0.02853774  0.02872048 ...,  0.02650544  1.          0.02537721]\n",
      " [ 0.06255719  0.02220228  0.0795105  ...,  0.07288869  0.02537721  1.        ]]\n"
     ]
    }
   ],
   "source": [
    "print ng_cosine"
   ]
  },
  {
   "cell_type": "code",
   "execution_count": 9,
   "metadata": {
    "collapsed": true
   },
   "outputs": [],
   "source": [
    "f_sim = open(\"sim_20ng.txt\",\"wb\")\n",
    "for row in ng_cosine:\n",
    "    f_sim.write(row)"
   ]
  },
  {
   "cell_type": "code",
   "execution_count": 20,
   "metadata": {
    "collapsed": false
   },
   "outputs": [],
   "source": [
    "ng_eclidean = euclidean_distances(vectors)\n"
   ]
  },
  {
   "cell_type": "code",
   "execution_count": 3,
   "metadata": {
    "collapsed": false
   },
   "outputs": [
    {
     "data": {
      "text/plain": [
       "(7532, 93564)"
      ]
     },
     "execution_count": 3,
     "metadata": {},
     "output_type": "execute_result"
    }
   ],
   "source": [
    "k = 10\n",
    "vectors_test = vectorizer.fit_transform(newsgroup_test.data)\n",
    "vectors_test.shape"
   ]
  },
  {
   "cell_type": "code",
   "execution_count": 5,
   "metadata": {
    "collapsed": false
   },
   "outputs": [],
   "source": [
    "x_data = vectors[:15000]\n",
    "y_data = vectors[15000:]\n",
    "x_target = labels[:15000]\n",
    "y_target = labels[15000:]\n",
    "from sklearn.metrics.pairwise import cosine_similarity\n",
    "from sklearn.metrics.pairwise import euclidean_distances\n",
    "ng_eclidean = euclidean_distances(y_data, x_data)\n",
    "cosine_t_t = cosine_similarity(y_data, x_data)"
   ]
  },
  {
   "cell_type": "code",
   "execution_count": 6,
   "metadata": {
    "collapsed": false
   },
   "outputs": [
    {
     "data": {
      "text/plain": [
       "3846"
      ]
     },
     "execution_count": 6,
     "metadata": {},
     "output_type": "execute_result"
    }
   ],
   "source": [
    "len(cosine_t_t)"
   ]
  },
  {
   "cell_type": "code",
   "execution_count": 7,
   "metadata": {
    "collapsed": false
   },
   "outputs": [],
   "source": [
    "k = 5\n",
    "cosine_t_t = ng_eclidean\n",
    "y_len  = len(cosine_t_t[0])\n",
    "count = 0\n",
    "pred = {}\n",
    "import numpy\n",
    "for elements in cosine_t_t :\n",
    "    neighbor1 = numpy.argsort(elements)\n",
    "#     neighbor = neighbor1[y_len-k:]\n",
    "    neighbor = neighbor1[:k]\n",
    "\n",
    "#     print neighbor[:10]\n",
    "    a = []\n",
    "    for value in neighbor :\n",
    "        a.append(x_target[value])\n",
    "    lab_pred = max(a,key=a.count)\n",
    "    pred[count] = lab_pred\n",
    "    count += 1"
   ]
  },
  {
   "cell_type": "code",
   "execution_count": 11,
   "metadata": {
    "collapsed": true
   },
   "outputs": [],
   "source": [
    "def knn_func(idx, k):\n",
    "    nearest_n = numpy.argsort(cosine_t_t[idx])\n",
    "#     nearest_n = nearest_n[y_len-k:]\n",
    "    nearest_n = nearest_n[:k]\n",
    "    print \"the indices are : \"\n",
    "    for n in nearest_n:\n",
    "        print n, newsgroup_train.target_names[x_target[n]]"
   ]
  },
  {
   "cell_type": "code",
   "execution_count": 12,
   "metadata": {
    "collapsed": false
   },
   "outputs": [
    {
     "name": "stdout",
     "output_type": "stream",
     "text": [
      "the indices are : \n",
      "8980 soc.religion.christian\n",
      "14736 soc.religion.christian\n",
      "12171 soc.religion.christian\n",
      "14910 soc.religion.christian\n",
      "14892 sci.crypt\n"
     ]
    }
   ],
   "source": [
    "knn_func(142,5)"
   ]
  },
  {
   "cell_type": "code",
   "execution_count": 85,
   "metadata": {
    "collapsed": false
   },
   "outputs": [
    {
     "name": "stdout",
     "output_type": "stream",
     "text": [
      "the accuracy for knn of ng20 is :  77.9251170047\n"
     ]
    }
   ],
   "source": [
    "correct_pred = 0\n",
    "for item in pred :\n",
    "    if pred[item] == y_target[item]:\n",
    "        correct_pred += 1\n",
    "print \"the accuracy for knn of ng20 is : \",correct_pred * 1.0/len(pred) *100\n",
    "# print pred[1], newsgroup_test.target[1]"
   ]
  },
  {
   "cell_type": "code",
   "execution_count": null,
   "metadata": {
    "collapsed": false
   },
   "outputs": [],
   "source": []
  },
  {
   "cell_type": "code",
   "execution_count": null,
   "metadata": {
    "collapsed": true
   },
   "outputs": [],
   "source": [
    "import numpy\n",
    "for i in range(7):\n",
    "    numpy.savetxt(\"similarity\"+str(i)+\".npy\",cosine_sim_mn[i>0?0:(i-1):i*10000])\n",
    "    print \"stored\",i\n",
    "print \"stored similarity matrix\"\n"
   ]
  },
  {
   "cell_type": "code",
   "execution_count": 3,
   "metadata": {
    "collapsed": false
   },
   "outputs": [
    {
     "name": "stdout",
     "output_type": "stream",
     "text": [
      "0 3500\n",
      "0\n",
      "3500 7000\n",
      "1\n",
      "7000 10500\n",
      "2\n",
      "10500 14000\n",
      "3\n",
      "14000 17500\n",
      "4\n",
      "17500 21000\n",
      "5\n",
      "21000 24500\n",
      "6\n",
      "24500 28000\n",
      "7\n",
      "28000 31500\n",
      "8\n",
      "31500 35000\n",
      "9\n",
      "35000 38500\n",
      "10\n",
      "38500 42000\n",
      "11\n",
      "42000 45500\n",
      "12\n",
      "45500 49000\n",
      "13\n",
      "49000 52500\n",
      "14\n",
      "52500 56000\n",
      "15\n",
      "56000 59500\n",
      "16\n",
      "59500 63000\n",
      "17\n",
      "63000 66500\n",
      "18\n",
      "66500 70000\n",
      "19\n"
     ]
    }
   ],
   "source": [
    "interval = 3500\n",
    "data_m = sparse.csr_matrix(mnist.data)\n",
    "cosine_file = open(\"cosine_mnist.txt\",'wb')\n",
    "for i in range(20):\n",
    "    cosine_mn = cosine_similarity(data_m[i*interval:(i+1)*interval],data_m)\n",
    "    print i*interval,(i+1)*interval\n",
    "    print i\n",
    "    cosine_file.write(cosine_mn)"
   ]
  },
  {
   "cell_type": "code",
   "execution_count": 5,
   "metadata": {
    "collapsed": false
   },
   "outputs": [
    {
     "name": "stdout",
     "output_type": "stream",
     "text": [
      "The shape of the the similarity matrix with 1/20ht of the entries are :  (3500L, 70000L)\n"
     ]
    }
   ],
   "source": [
    "print \"The shape of the the similarity matrix with 1/20ht of the entries are : \",cosine_mn.shape"
   ]
  },
  {
   "cell_type": "code",
   "execution_count": 13,
   "metadata": {
    "collapsed": false
   },
   "outputs": [
    {
     "data": {
      "text/plain": [
       "1.000000000000002"
      ]
     },
     "execution_count": 13,
     "metadata": {},
     "output_type": "execute_result"
    }
   ],
   "source": [
    "#the total time taken to compute the similarity matrix in 55mins.\n",
    "cosine_mn[0][66500]"
   ]
  },
  {
   "cell_type": "code",
   "execution_count": null,
   "metadata": {
    "collapsed": true
   },
   "outputs": [],
   "source": []
  }
 ],
 "metadata": {
  "anaconda-cloud": {},
  "kernelspec": {
   "display_name": "Python [conda root]",
   "language": "python",
   "name": "conda-root-py"
  },
  "language_info": {
   "codemirror_mode": {
    "name": "ipython",
    "version": 2
   },
   "file_extension": ".py",
   "mimetype": "text/x-python",
   "name": "python",
   "nbconvert_exporter": "python",
   "pygments_lexer": "ipython2",
   "version": "2.7.12"
  }
 },
 "nbformat": 4,
 "nbformat_minor": 1
}
