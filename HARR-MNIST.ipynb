{
 "cells": [
  {
   "cell_type": "code",
   "execution_count": 2,
   "metadata": {
    "collapsed": false
   },
   "outputs": [],
   "source": [
    "from sklearn.datasets import fetch_mldata\n",
    "from sklearn.model_selection import train_test_split\n",
    "import numpy as np\n",
    "from scipy import sparse\n",
    "import random\n",
    "from sklearn import tree\n",
    "import math\n",
    "from sklearn.linear_model import LogisticRegression\n",
    "import matplotlib.pyplot as plt"
   ]
  },
  {
   "cell_type": "code",
   "execution_count": 29,
   "metadata": {
    "collapsed": true
   },
   "outputs": [],
   "source": [
    "#Fetching the mnist data\n",
    "#Dividing it into test and train split\n",
    "mnist = fetch_mldata('MNIST original')\n",
    "X_train, X_test, y_train, y_test = train_test_split(mnist.data,mnist.target, test_size=0.15)"
   ]
  },
  {
   "cell_type": "code",
   "execution_count": 31,
   "metadata": {
    "collapsed": false
   },
   "outputs": [],
   "source": []
  },
  {
   "cell_type": "code",
   "execution_count": 72,
   "metadata": {
    "collapsed": true
   },
   "outputs": [],
   "source": [
    "def getNewFeatures():\n",
    "    features = {}\n",
    "    data = mnist.data\n",
    "    rectangles = getRectangles()\n",
    "    for num in range(len(data)):\n",
    "        if num%7000 == 0:\n",
    "            print num\n",
    "        da = np.reshape(data[num],(28,28))\n",
    "        d = [[0 for i in range(28)]for j in range(28)]\n",
    "        d[0][0] = 0\n",
    "        for i in range(1,28):\n",
    "            d[0][i] = d[0][i-1] + da[0][i]/128\n",
    "        for i in range(1,28):\n",
    "            d[i][0] = d[i-1][0] + da[i][0]/128\n",
    "\n",
    "        for i in range(1,28):\n",
    "            for j in range(1,28):\n",
    "                d[i][j] = d[i][j-1] + d[i-1][j] - d[i-1][j-1] + da[i][j]/128\n",
    "        \n",
    "        feature=[]\n",
    "        #Extracting left, right, upper and lower halves from the features\n",
    "        for r in rectangles: \n",
    "            left_half = [[r[0][0],(r[0][1][0],(r[0][0][1]+r[0][1][1])/2)],[r[1][0],(r[1][1][0],(r[1][1][1]+r[1][0][1])/2)]]\n",
    "            right_half = [[(r[0][0][0],(r[0][0][1]+r[0][1][1])/2),r[0][1]],[(r[1][0][0],(r[1][0][1]+r[1][1][1])/2),r[1][1]]]\n",
    "            upper_half = getUpperhalf(r)\n",
    "            lower_half = getLowerhalf(r)\n",
    "            feature += [getBlackCount(left_half,d)-getBlackCount(right_half,d),getBlackCount(upper_half,d)-getBlackCount(lower_half,d)]\n",
    "        features[num] = feature\n",
    "    return features"
   ]
  },
  {
   "cell_type": "code",
   "execution_count": 73,
   "metadata": {
    "collapsed": false
   },
   "outputs": [],
   "source": [
    "def getRectangles():\n",
    "    rectangles = []\n",
    "    for i in range(9):\n",
    "        for j in range(9):\n",
    "            rectangles.append([[(i*2,j*2),(i*2,11+j*2)],[(11+i*2,j*2),(11+i*2,11+j*2)]])\n",
    "    rect_19 = []\n",
    "    \n",
    "    for i in range(1000):\n",
    "        rect_19.append([random.randint(0,27),random.randint(0,27),random.randint(0,27),random.randint(0,27)])\n",
    "    final_rect =[]\n",
    "    c =0\n",
    "    for i in rect_19:\n",
    "        if (math.sqrt(math.pow(i[0]-i[2],2) + math.pow(i[1]-i[3],2))) > 26.5:\n",
    "            final_rect.append(i)\n",
    "            c += 1\n",
    "        if c == 19:\n",
    "            break\n",
    "    rect = []\n",
    "    for r in final_rect:\n",
    "        rect.append([(r[0],r[1]),(r[2],r[3]),(r[0],r[3]),(r[2],r[1])])\n",
    "    def getKey(item):\n",
    "        return item[0]\n",
    "    for r in rect:\n",
    "        r.sort(key=getKey)\n",
    "    rectangles_temp = []\n",
    "    for r in rect:\n",
    "        rectangles_temp.append([r[:2],r[2:]])\n",
    "    def getKey2(item):\n",
    "        return item[1]\n",
    "    for i in rectangles_temp:\n",
    "        for j in range(2):\n",
    "            i[j].sort(key=getKey2)\n",
    "    print len(rectangles),len(rectangles_temp)\n",
    "    return rectangles + rectangles_temp"
   ]
  },
  {
   "cell_type": "code",
   "execution_count": 74,
   "metadata": {
    "collapsed": true
   },
   "outputs": [],
   "source": [
    "def getBlackCount(r,d):\n",
    "    return d[r[1][1][0]][r[1][1][1]] - d[r[0][1][0]][r[0][1][1]] - d[r[1][0][0]][r[1][0][1]] + d[r[0][0][0]][r[0][0][1]]"
   ]
  },
  {
   "cell_type": "code",
   "execution_count": 75,
   "metadata": {
    "collapsed": true
   },
   "outputs": [],
   "source": [
    "def getUpperhalf(rect_current):\n",
    "    t = rect_current\n",
    "    new_height = (t[0][0][0]+t[1][0][0])/2\n",
    "    return [[t[0][0],t[0][1]],[(new_height,t[1][0][1]),(new_height,t[1][1][1])]]\n",
    "\n",
    "def getLowerhalf(t):\n",
    "    new_height = (t[0][0][0]+t[1][0][0])/2\n",
    "    return [[(new_height,t[0][0][1]),(new_height,t[0][1][1])],[t[1][0],t[1][1]]]"
   ]
  },
  {
   "cell_type": "code",
   "execution_count": 76,
   "metadata": {
    "collapsed": false
   },
   "outputs": [
    {
     "name": "stdout",
     "output_type": "stream",
     "text": [
      "81 19\n",
      "0\n",
      "7000\n",
      "14000\n",
      "21000\n",
      "28000\n",
      "35000\n",
      "42000\n",
      "49000\n",
      "56000\n",
      "63000\n"
     ]
    }
   ],
   "source": [
    "features = getNewFeatures()"
   ]
  },
  {
   "cell_type": "code",
   "execution_count": 59,
   "metadata": {
    "collapsed": false
   },
   "outputs": [
    {
     "name": "stdout",
     "output_type": "stream",
     "text": [
      "[-6, -6, -17, -17, -29, -25, -26, -30, -16, -38, -1, -41, 8, -32, 20, -22, 23, -15, -10, -10, -24, -18, -36, -18, -25, -15, -13, -19, -2, -18, 3, -7, 22, -4, 29, -5, -17, -13, -31, -13, -37, -5, -18, 4, -11, 1, -6, 8, -3, 13, 24, 8, 35, -1, -24, -12, -33, -5, -27, 3, -3, 7, -2, 8, -6, 16, -9, 13, 21, 5, 32, -2, -29, -11, -30, -2, -12, 2, 11, -1, 0, 6, -12, 14, -14, 6, 20, 0, 30, -2, -34, -8, -29, -5, -3, -9, 15, -17, -1, -3, -13, 3, -7, -3, 22, -2, 27, 3, -39, -7, -32, -12, -2, -20, 15, -27, 0, -14, -4, -10, 4, -8, 23, -1, 21, 7, -35, -1, -29, -9, -2, -18, 9, -19, 0, -12, 3, -11, 12, -4, 21, 5, 15, 11, -27, 7, -23, 3, -4, 2, 1, 9, -1, 7, 7, 5, 17, 9, 18, 12, 10, 10, 31, -15, -24, -2, 17, -7, 15, -7, -22, -16, 53, -19, 0, 12, 71, 29, 23, -7, 23, -21, 40, 16, -40, -14, -70, -18, -8, 2, 25, 11, 15, 3, 12, -10, -13, -7, -26, -24] [0, 0, 0, 0, -2, -2, -9, -9, -19, -15, -18, -14, -4, -14, 16, -14, 17, -9, 0, 0, -1, -1, -7, -7, -15, -15, -23, -13, -14, -10, 2, -10, 19, -7, 17, 1, 0, 0, -4, -4, -13, -13, -21, -15, -22, -8, -6, -6, 9, -5, 20, 2, 15, 9, -1, -1, -9, -9, -19, -15, -25, -9, -15, -3, 5, -3, 17, 1, 19, 11, 10, 10, -6, -6, -16, -14, -24, -12, -21, -5, -3, -3, 14, 0, 20, 8, 14, 12, 5, 5, -13, -13, -23, -15, -24, -8, -9, -5, 10, -4, 21, 3, 17, 11, 7, 7, 1, 1, -19, -17, -27, -11, -17, -5, 3, -5, 19, -1, 21, 9, 11, 11, 2, 2, 0, 0, -19, -7, -25, 1, -11, 3, 9, 3, 21, 7, 15, 11, 5, 5, 0, 0, 0, 0, -19, 7, -21, 11, -5, 11, 15, 11, 19, 13, 9, 9, 1, 1, 0, 0, 0, 0, 18, -10, -11, -5, 17, 1, 8, -4, -25, -7, 26, -10, 2, 2, 35, 11, 15, -7, 15, -13, 25, 7, -19, -7, -34, -12, -19, -3, 11, 17, 12, -4, 10, -4, -5, -7, -9, -9]\n"
     ]
    }
   ],
   "source": [
    "print features[10], features[10000]"
   ]
  },
  {
   "cell_type": "code",
   "execution_count": 77,
   "metadata": {
    "collapsed": false
   },
   "outputs": [],
   "source": [
    "new_data = []\n",
    "for num in range(len(features)):\n",
    "    new_data.append(features[num])\n",
    "clf = LogisticRegression()\n",
    "clf.fit(new_data[:62000],mnist.target[:62000])\n",
    "score = clf.score(new_data[62000:],mnist.target[62000:])"
   ]
  },
  {
   "cell_type": "code",
   "execution_count": 78,
   "metadata": {
    "collapsed": false
   },
   "outputs": [
    {
     "name": "stdout",
     "output_type": "stream",
     "text": [
      "The score of Linear regression with HAAR features of 200 is :  0.897\n"
     ]
    }
   ],
   "source": [
    "print \"The score of Linear regression with HAAR features of 200 is : \",score"
   ]
  },
  {
   "cell_type": "code",
   "execution_count": 79,
   "metadata": {
    "collapsed": false
   },
   "outputs": [
    {
     "name": "stdout",
     "output_type": "stream",
     "text": [
      "0.858375\n"
     ]
    }
   ],
   "source": [
    "clf_tree = tree.DecisionTreeClassifier()\n",
    "clf_tree.fit(new_data[:62000],mnist.target[:62000])\n",
    "score = clf_tree.score(new_data[62000:],mnist.target[62000:])\n",
    "print score"
   ]
  },
  {
   "cell_type": "code",
   "execution_count": 67,
   "metadata": {
    "collapsed": false
   },
   "outputs": [
    {
     "data": {
      "text/plain": [
       "0.81379999999999997"
      ]
     },
     "execution_count": 67,
     "metadata": {},
     "output_type": "execute_result"
    }
   ],
   "source": [
    "score"
   ]
  }
 ],
 "metadata": {
  "anaconda-cloud": {},
  "kernelspec": {
   "display_name": "Python [conda root]",
   "language": "python",
   "name": "conda-root-py"
  },
  "language_info": {
   "codemirror_mode": {
    "name": "ipython",
    "version": 2
   },
   "file_extension": ".py",
   "mimetype": "text/x-python",
   "name": "python",
   "nbconvert_exporter": "python",
   "pygments_lexer": "ipython2",
   "version": "2.7.12"
  }
 },
 "nbformat": 4,
 "nbformat_minor": 1
}
